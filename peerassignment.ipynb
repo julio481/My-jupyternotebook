{
 "cells": [
  {
   "cell_type": "markdown",
   "id": "705544f4-c4af-4a51-b45a-1de5f373cd31",
   "metadata": {},
   "source": [
    "# My Jupyter Notebook on IBM Watson Studio"
   ]
  },
  {
   "cell_type": "markdown",
   "id": "b0d01f75-ed7e-4b60-9358-87d30f8feb33",
   "metadata": {},
   "source": [
    "<b>Julio Enriquez Fernandez</b>\n",
    "<br>\n",
    "I'm a physics student here in Mexico and i'm aiming to expand my knoledge with these courses.\n",
    "<br>\n",
    "Also taking advantage of these text, i would like to say to you, my evaluating peer, that the reason im doing these notebook outside of watson studios, is that i have no access to it, the 6 months links are no longer available and my ine month trial is no logner active, i tried with another account, but no luck, either way im handing over these assignment "
   ]
  },
  {
   "cell_type": "markdown",
   "id": "919b00ae-fe30-48bf-a825-e2fd1ba259b4",
   "metadata": {},
   "source": [
    "_Im interested in data science because is a field highly seen in the physics enviroment\n",
    "<br>\n",
    "also i love working with data and analyze it_"
   ]
  },
  {
   "cell_type": "markdown",
   "id": "8d836c73-e130-4157-8eb1-92f16b5b2532",
   "metadata": {},
   "source": [
    "### In the next cell i'll write a code in wich the output will be the sum of two digits"
   ]
  },
  {
   "cell_type": "code",
   "execution_count": 1,
   "id": "e8606e6a-f4b0-4f76-913e-65c74b02b891",
   "metadata": {},
   "outputs": [
    {
     "name": "stdout",
     "output_type": "stream",
     "text": [
      "4\n"
     ]
    }
   ],
   "source": [
    "a=2+2\n",
    "print(a)"
   ]
  },
  {
   "cell_type": "markdown",
   "id": "05e6f320-8964-4f15-8d05-9cd741781541",
   "metadata": {},
   "source": [
    "| Stretch/Untouched | ProbDistribution | Accuracy |\n",
    "| --- | --- | --- |\n",
    "| Stretched | Gaussian | .843 |\n",
    "***\n",
    "1. item 1\n",
    "2. item 2\n",
    "\n",
    "\n",
    "\n",
    "3. item 3"
   ]
  }
 ],
 "metadata": {
  "kernelspec": {
   "display_name": "Python 3",
   "language": "python",
   "name": "python3"
  },
  "language_info": {
   "codemirror_mode": {
    "name": "ipython",
    "version": 3
   },
   "file_extension": ".py",
   "mimetype": "text/x-python",
   "name": "python",
   "nbconvert_exporter": "python",
   "pygments_lexer": "ipython3",
   "version": "3.8.8"
  }
 },
 "nbformat": 4,
 "nbformat_minor": 5
}
